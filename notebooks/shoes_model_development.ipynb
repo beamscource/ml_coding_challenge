{
  "nbformat": 4,
  "nbformat_minor": 0,
  "metadata": {
    "colab": {
      "provenance": []
    },
    "kernelspec": {
      "name": "python3",
      "display_name": "Python 3"
    },
    "language_info": {
      "name": "python"
    },
    "widgets": {
      "application/vnd.jupyter.widget-state+json": {
        "61ff8f490b224976bd71aa5259209279": {
          "model_module": "@jupyter-widgets/controls",
          "model_name": "HBoxModel",
          "model_module_version": "1.5.0",
          "state": {
            "_dom_classes": [],
            "_model_module": "@jupyter-widgets/controls",
            "_model_module_version": "1.5.0",
            "_model_name": "HBoxModel",
            "_view_count": null,
            "_view_module": "@jupyter-widgets/controls",
            "_view_module_version": "1.5.0",
            "_view_name": "HBoxView",
            "box_style": "",
            "children": [
              "IPY_MODEL_e64d8a876a574324be296a53ef11d7a3",
              "IPY_MODEL_a191296f2ffc46f6bed95363a48e28c1",
              "IPY_MODEL_5a3ed47808b04dec8c0c3d9862cd3361"
            ],
            "layout": "IPY_MODEL_24545cb3abb2416f9fe6e3b8be059a59"
          }
        },
        "e64d8a876a574324be296a53ef11d7a3": {
          "model_module": "@jupyter-widgets/controls",
          "model_name": "HTMLModel",
          "model_module_version": "1.5.0",
          "state": {
            "_dom_classes": [],
            "_model_module": "@jupyter-widgets/controls",
            "_model_module_version": "1.5.0",
            "_model_name": "HTMLModel",
            "_view_count": null,
            "_view_module": "@jupyter-widgets/controls",
            "_view_module_version": "1.5.0",
            "_view_name": "HTMLView",
            "description": "",
            "description_tooltip": null,
            "layout": "IPY_MODEL_18b24824a2934e6f966937d4c54544a4",
            "placeholder": "​",
            "style": "IPY_MODEL_f500d9a3e85b47be935c4523347f53ab",
            "value": "100%"
          }
        },
        "a191296f2ffc46f6bed95363a48e28c1": {
          "model_module": "@jupyter-widgets/controls",
          "model_name": "FloatProgressModel",
          "model_module_version": "1.5.0",
          "state": {
            "_dom_classes": [],
            "_model_module": "@jupyter-widgets/controls",
            "_model_module_version": "1.5.0",
            "_model_name": "FloatProgressModel",
            "_view_count": null,
            "_view_module": "@jupyter-widgets/controls",
            "_view_module_version": "1.5.0",
            "_view_name": "ProgressView",
            "bar_style": "success",
            "description": "",
            "description_tooltip": null,
            "layout": "IPY_MODEL_5fcd4733ee9a439c90875a814eb351a8",
            "max": 20,
            "min": 0,
            "orientation": "horizontal",
            "style": "IPY_MODEL_fd8a5604eaaf4d59849e517b3a09755f",
            "value": 20
          }
        },
        "5a3ed47808b04dec8c0c3d9862cd3361": {
          "model_module": "@jupyter-widgets/controls",
          "model_name": "HTMLModel",
          "model_module_version": "1.5.0",
          "state": {
            "_dom_classes": [],
            "_model_module": "@jupyter-widgets/controls",
            "_model_module_version": "1.5.0",
            "_model_name": "HTMLModel",
            "_view_count": null,
            "_view_module": "@jupyter-widgets/controls",
            "_view_module_version": "1.5.0",
            "_view_name": "HTMLView",
            "description": "",
            "description_tooltip": null,
            "layout": "IPY_MODEL_28af9eeb43744d668533c5e8a9f79eed",
            "placeholder": "​",
            "style": "IPY_MODEL_1374dc365dd14a06ac006f3d9c6a0977",
            "value": " 20/20 [00:44&lt;00:00,  2.10s/it]"
          }
        },
        "24545cb3abb2416f9fe6e3b8be059a59": {
          "model_module": "@jupyter-widgets/base",
          "model_name": "LayoutModel",
          "model_module_version": "1.2.0",
          "state": {
            "_model_module": "@jupyter-widgets/base",
            "_model_module_version": "1.2.0",
            "_model_name": "LayoutModel",
            "_view_count": null,
            "_view_module": "@jupyter-widgets/base",
            "_view_module_version": "1.2.0",
            "_view_name": "LayoutView",
            "align_content": null,
            "align_items": null,
            "align_self": null,
            "border": null,
            "bottom": null,
            "display": null,
            "flex": null,
            "flex_flow": null,
            "grid_area": null,
            "grid_auto_columns": null,
            "grid_auto_flow": null,
            "grid_auto_rows": null,
            "grid_column": null,
            "grid_gap": null,
            "grid_row": null,
            "grid_template_areas": null,
            "grid_template_columns": null,
            "grid_template_rows": null,
            "height": null,
            "justify_content": null,
            "justify_items": null,
            "left": null,
            "margin": null,
            "max_height": null,
            "max_width": null,
            "min_height": null,
            "min_width": null,
            "object_fit": null,
            "object_position": null,
            "order": null,
            "overflow": null,
            "overflow_x": null,
            "overflow_y": null,
            "padding": null,
            "right": null,
            "top": null,
            "visibility": null,
            "width": null
          }
        },
        "18b24824a2934e6f966937d4c54544a4": {
          "model_module": "@jupyter-widgets/base",
          "model_name": "LayoutModel",
          "model_module_version": "1.2.0",
          "state": {
            "_model_module": "@jupyter-widgets/base",
            "_model_module_version": "1.2.0",
            "_model_name": "LayoutModel",
            "_view_count": null,
            "_view_module": "@jupyter-widgets/base",
            "_view_module_version": "1.2.0",
            "_view_name": "LayoutView",
            "align_content": null,
            "align_items": null,
            "align_self": null,
            "border": null,
            "bottom": null,
            "display": null,
            "flex": null,
            "flex_flow": null,
            "grid_area": null,
            "grid_auto_columns": null,
            "grid_auto_flow": null,
            "grid_auto_rows": null,
            "grid_column": null,
            "grid_gap": null,
            "grid_row": null,
            "grid_template_areas": null,
            "grid_template_columns": null,
            "grid_template_rows": null,
            "height": null,
            "justify_content": null,
            "justify_items": null,
            "left": null,
            "margin": null,
            "max_height": null,
            "max_width": null,
            "min_height": null,
            "min_width": null,
            "object_fit": null,
            "object_position": null,
            "order": null,
            "overflow": null,
            "overflow_x": null,
            "overflow_y": null,
            "padding": null,
            "right": null,
            "top": null,
            "visibility": null,
            "width": null
          }
        },
        "f500d9a3e85b47be935c4523347f53ab": {
          "model_module": "@jupyter-widgets/controls",
          "model_name": "DescriptionStyleModel",
          "model_module_version": "1.5.0",
          "state": {
            "_model_module": "@jupyter-widgets/controls",
            "_model_module_version": "1.5.0",
            "_model_name": "DescriptionStyleModel",
            "_view_count": null,
            "_view_module": "@jupyter-widgets/base",
            "_view_module_version": "1.2.0",
            "_view_name": "StyleView",
            "description_width": ""
          }
        },
        "5fcd4733ee9a439c90875a814eb351a8": {
          "model_module": "@jupyter-widgets/base",
          "model_name": "LayoutModel",
          "model_module_version": "1.2.0",
          "state": {
            "_model_module": "@jupyter-widgets/base",
            "_model_module_version": "1.2.0",
            "_model_name": "LayoutModel",
            "_view_count": null,
            "_view_module": "@jupyter-widgets/base",
            "_view_module_version": "1.2.0",
            "_view_name": "LayoutView",
            "align_content": null,
            "align_items": null,
            "align_self": null,
            "border": null,
            "bottom": null,
            "display": null,
            "flex": null,
            "flex_flow": null,
            "grid_area": null,
            "grid_auto_columns": null,
            "grid_auto_flow": null,
            "grid_auto_rows": null,
            "grid_column": null,
            "grid_gap": null,
            "grid_row": null,
            "grid_template_areas": null,
            "grid_template_columns": null,
            "grid_template_rows": null,
            "height": null,
            "justify_content": null,
            "justify_items": null,
            "left": null,
            "margin": null,
            "max_height": null,
            "max_width": null,
            "min_height": null,
            "min_width": null,
            "object_fit": null,
            "object_position": null,
            "order": null,
            "overflow": null,
            "overflow_x": null,
            "overflow_y": null,
            "padding": null,
            "right": null,
            "top": null,
            "visibility": null,
            "width": null
          }
        },
        "fd8a5604eaaf4d59849e517b3a09755f": {
          "model_module": "@jupyter-widgets/controls",
          "model_name": "ProgressStyleModel",
          "model_module_version": "1.5.0",
          "state": {
            "_model_module": "@jupyter-widgets/controls",
            "_model_module_version": "1.5.0",
            "_model_name": "ProgressStyleModel",
            "_view_count": null,
            "_view_module": "@jupyter-widgets/base",
            "_view_module_version": "1.2.0",
            "_view_name": "StyleView",
            "bar_color": null,
            "description_width": ""
          }
        },
        "28af9eeb43744d668533c5e8a9f79eed": {
          "model_module": "@jupyter-widgets/base",
          "model_name": "LayoutModel",
          "model_module_version": "1.2.0",
          "state": {
            "_model_module": "@jupyter-widgets/base",
            "_model_module_version": "1.2.0",
            "_model_name": "LayoutModel",
            "_view_count": null,
            "_view_module": "@jupyter-widgets/base",
            "_view_module_version": "1.2.0",
            "_view_name": "LayoutView",
            "align_content": null,
            "align_items": null,
            "align_self": null,
            "border": null,
            "bottom": null,
            "display": null,
            "flex": null,
            "flex_flow": null,
            "grid_area": null,
            "grid_auto_columns": null,
            "grid_auto_flow": null,
            "grid_auto_rows": null,
            "grid_column": null,
            "grid_gap": null,
            "grid_row": null,
            "grid_template_areas": null,
            "grid_template_columns": null,
            "grid_template_rows": null,
            "height": null,
            "justify_content": null,
            "justify_items": null,
            "left": null,
            "margin": null,
            "max_height": null,
            "max_width": null,
            "min_height": null,
            "min_width": null,
            "object_fit": null,
            "object_position": null,
            "order": null,
            "overflow": null,
            "overflow_x": null,
            "overflow_y": null,
            "padding": null,
            "right": null,
            "top": null,
            "visibility": null,
            "width": null
          }
        },
        "1374dc365dd14a06ac006f3d9c6a0977": {
          "model_module": "@jupyter-widgets/controls",
          "model_name": "DescriptionStyleModel",
          "model_module_version": "1.5.0",
          "state": {
            "_model_module": "@jupyter-widgets/controls",
            "_model_module_version": "1.5.0",
            "_model_name": "DescriptionStyleModel",
            "_view_count": null,
            "_view_module": "@jupyter-widgets/base",
            "_view_module_version": "1.2.0",
            "_view_name": "StyleView",
            "description_width": ""
          }
        }
      }
    }
  },
  "cells": [
    {
      "cell_type": "markdown",
      "source": [
        "### Get the data"
      ],
      "metadata": {
        "id": "SJmeLyP_5-bn"
      }
    },
    {
      "cell_type": "code",
      "source": [
        "from google.colab import drive\n",
        "drive.mount('/content/drive')"
      ],
      "metadata": {
        "colab": {
          "base_uri": "https://localhost:8080/"
        },
        "id": "uIWRmWai0uU0",
        "outputId": "373ecf4d-1603-4540-a5f5-66adc18342ec"
      },
      "execution_count": 1,
      "outputs": [
        {
          "output_type": "stream",
          "name": "stdout",
          "text": [
            "Mounted at /content/drive\n"
          ]
        }
      ]
    },
    {
      "cell_type": "code",
      "source": [
        "!cp drive/MyDrive/_NN_NLP/PyTorch/datasets/shoes.zip . "
      ],
      "metadata": {
        "id": "lRVL9fUK1jEF"
      },
      "execution_count": 2,
      "outputs": []
    },
    {
      "cell_type": "code",
      "source": [
        "!unzip shoes.zip"
      ],
      "metadata": {
        "id": "_kt6cc0E5tb5"
      },
      "execution_count": null,
      "outputs": []
    },
    {
      "cell_type": "markdown",
      "source": [
        "### Define and train the model"
      ],
      "metadata": {
        "id": "WBuSVF4w6HKQ"
      }
    },
    {
      "cell_type": "code",
      "source": [
        "import torch\n",
        "import numpy as np\n",
        "import torch.nn.functional as F\n",
        "import torchvision\n",
        "from torchvision import transforms\n",
        "from torch.utils.data import DataLoader\n",
        "import torch.nn as nn\n",
        "from tqdm.notebook import tqdm\n",
        "from PIL import Image"
      ],
      "metadata": {
        "id": "9o-D--oZ6KpN"
      },
      "execution_count": 13,
      "outputs": []
    },
    {
      "cell_type": "code",
      "source": [
        "# create data loaders\n",
        "\n",
        "transforms = transforms.Compose([\n",
        "    transforms.Resize((64, 64)),\n",
        "    transforms.ToTensor(),\n",
        "    transforms.Normalize(mean=[0.485, 0.456, 0.406],\n",
        "                         std=[0.229, 0.224, 0.225] )\n",
        "    ])\n",
        "\n",
        "train_data_path = \"train\"\n",
        "train_data = torchvision.datasets.ImageFolder(root=train_data_path,\n",
        "                                              transform=transforms)\n",
        "\n",
        "val_data_path = \"val\"\n",
        "val_data = torchvision.datasets.ImageFolder(root=val_data_path,\n",
        "                                            transform=transforms)\n",
        "\n",
        "test_data_path = \"test\"\n",
        "test_data = torchvision.datasets.ImageFolder(root=test_data_path,\n",
        "                                            transform=transforms)\n",
        "\n",
        "batch_size=64\n",
        "train_data_loader = DataLoader(train_data, batch_size=batch_size, shuffle=True)\n",
        "val_data_loader  = DataLoader(val_data, batch_size=batch_size, shuffle=True)\n",
        "test_data_loader  = DataLoader(test_data, batch_size=batch_size)"
      ],
      "metadata": {
        "id": "WZ1cBQOU6QQ8"
      },
      "execution_count": 14,
      "outputs": []
    },
    {
      "cell_type": "code",
      "source": [
        "# use GPU if available\n",
        "device = torch.device(\"cuda\" if torch.cuda.is_available() else \"cpu\")\n",
        "\n",
        "# define the network\n",
        "class SimpleNet(nn.Module):\n",
        "  def __init__(self):\n",
        "    super().__init__()\n",
        "    self.fc1 = nn.Linear(12288, 84) # input layer with the size 64*64*3 (input image)\n",
        "    self.fc2 = nn.Linear(84, 50)\n",
        "    self.fc3 = nn.Linear(50,3) # final layer with 3 units as output (for 3 categories)\n",
        "  \n",
        "  def forward(self, x): # bug was here\n",
        "    x = x.view(-1, 12288) # flatten the input image\n",
        "    x = F.relu(self.fc1(x))\n",
        "    x = F.relu(self.fc2(x))\n",
        "    x = self.fc3(x)\n",
        "    return x\n",
        "\n",
        "# initialize the model\n",
        "simplenet = SimpleNet()\n",
        "simplenet.to(device)"
      ],
      "metadata": {
        "colab": {
          "base_uri": "https://localhost:8080/"
        },
        "id": "En85lgR17dtZ",
        "outputId": "73bd9f16-e64a-4776-a11a-8c134d6852aa"
      },
      "execution_count": 15,
      "outputs": [
        {
          "output_type": "execute_result",
          "data": {
            "text/plain": [
              "SimpleNet(\n",
              "  (fc1): Linear(in_features=12288, out_features=84, bias=True)\n",
              "  (fc2): Linear(in_features=84, out_features=50, bias=True)\n",
              "  (fc3): Linear(in_features=50, out_features=3, bias=True)\n",
              ")"
            ]
          },
          "metadata": {},
          "execution_count": 15
        }
      ]
    },
    {
      "cell_type": "code",
      "source": [
        "optimizer = torch.optim.Adam(simplenet.parameters(), lr=0.001)"
      ],
      "metadata": {
        "id": "B8-3Lbfy8URJ"
      },
      "execution_count": null,
      "outputs": []
    },
    {
      "cell_type": "code",
      "execution_count": null,
      "metadata": {
        "id": "aZzASgJTIE0T"
      },
      "outputs": [],
      "source": [
        "# training loop\n",
        "def train(model, optimizer, loss_fn, train_loader, val_loader, epochs=20, device=\"cpu\"):\n",
        "  for epoch in tqdm(range(epochs)):\n",
        "    \n",
        "    training_loss = 0.0 # set for the epoch\n",
        "    valid_loss = 0.0\n",
        "    \n",
        "    # start training for the given epoch\n",
        "    model.train()\n",
        "    correct = 0\n",
        "    for inputs, labels in train_loader: # during each batch\n",
        "      \n",
        "      inputs = inputs.to(device) # move to GPU\n",
        "      labels = labels.to(device)\n",
        "      \n",
        "      predictions = model(inputs) # get model predictions for the batch\n",
        "      loss = loss_fn(predictions, labels) # compare model predictions with target labels\n",
        "      \n",
        "      optimizer.zero_grad() # zero the gradient\n",
        "      loss.backward() # compute gradient\n",
        "      optimizer.step() # take an optimization step\n",
        "      \n",
        "      training_loss += loss.item()*inputs.size(0) # accumulating loss over each batch\n",
        "      _, predicted = predictions.max(1)\n",
        "      correct += (predicted == labels).sum() # accumulating TP + TN\n",
        "\n",
        "    # get average training loss for the epoch across all training examples\n",
        "    # by deviding the accumulated loss by the number of all training examples (20k) \n",
        "    training_loss /= len(train_loader.dataset) # len(train_loader) gives number of batches\n",
        "    # calculate training accuracy for all training examples\n",
        "    train_accuracy = correct / len(train_loader.dataset)\n",
        "\n",
        "    # evaluate current model performance once all batches were proccessed\n",
        "    model.eval()\n",
        "    correct = 0\n",
        "    for inputs, labels in val_loader:\n",
        "      \n",
        "      inputs = inputs.to(device)\n",
        "      labels = labels.to(device)\n",
        "\n",
        "      # Deactivate gradients for making a prediction\n",
        "      with torch.no_grad(): # (faster and less memory usage)\n",
        "        predictions = model(inputs)\n",
        "      loss = loss_fn(predictions, labels)\n",
        "      valid_loss += loss.item()*inputs.size(0)\n",
        "        \n",
        "      _, predicted = predictions.max(1)\n",
        "      correct += (predicted == labels).sum()\n",
        "      \n",
        "    # get average validation loss for the epoch across all validation batches\n",
        "    valid_loss /= len(val_loader.dataset)\n",
        "    val_accuracy = correct / len(val_loader.dataset)\n",
        "    \n",
        "    print(f'Epoch: {epoch+1}, train_loss: {training_loss:.2f},\\\n",
        "          val_loss: {valid_loss:.2f}, val_accuracy = {val_accuracy:.2f},\\\n",
        "          train_accuracy = {train_accuracy:.2f}')"
      ]
    },
    {
      "cell_type": "markdown",
      "source": [
        "*Start training...*"
      ],
      "metadata": {
        "id": "TYLVbpes8lZo"
      }
    },
    {
      "cell_type": "code",
      "source": [
        "train(simplenet, optimizer, torch.nn.CrossEntropyLoss(), train_data_loader, val_data_loader)"
      ],
      "metadata": {
        "colab": {
          "base_uri": "https://localhost:8080/",
          "height": 396,
          "referenced_widgets": [
            "61ff8f490b224976bd71aa5259209279",
            "e64d8a876a574324be296a53ef11d7a3",
            "a191296f2ffc46f6bed95363a48e28c1",
            "5a3ed47808b04dec8c0c3d9862cd3361",
            "24545cb3abb2416f9fe6e3b8be059a59",
            "18b24824a2934e6f966937d4c54544a4",
            "f500d9a3e85b47be935c4523347f53ab",
            "5fcd4733ee9a439c90875a814eb351a8",
            "fd8a5604eaaf4d59849e517b3a09755f",
            "28af9eeb43744d668533c5e8a9f79eed",
            "1374dc365dd14a06ac006f3d9c6a0977"
          ]
        },
        "id": "Nfh9AcxQ8WNn",
        "outputId": "f3eb8e09-4e44-4164-e065-f4ec1acc40b0"
      },
      "execution_count": null,
      "outputs": [
        {
          "output_type": "display_data",
          "data": {
            "text/plain": [
              "  0%|          | 0/20 [00:00<?, ?it/s]"
            ],
            "application/vnd.jupyter.widget-view+json": {
              "version_major": 2,
              "version_minor": 0,
              "model_id": "61ff8f490b224976bd71aa5259209279"
            }
          },
          "metadata": {}
        },
        {
          "output_type": "stream",
          "name": "stdout",
          "text": [
            "Epoch: 1, train_loss: 0.99,          val_loss: 0.37, val_accuracy = 0.87,          train_accuracy = 0.67\n",
            "Epoch: 2, train_loss: 0.32,          val_loss: 0.38, val_accuracy = 0.78,          train_accuracy = 0.87\n",
            "Epoch: 3, train_loss: 0.31,          val_loss: 0.31, val_accuracy = 0.88,          train_accuracy = 0.87\n",
            "Epoch: 4, train_loss: 0.22,          val_loss: 0.42, val_accuracy = 0.78,          train_accuracy = 0.92\n",
            "Epoch: 5, train_loss: 0.23,          val_loss: 0.47, val_accuracy = 0.82,          train_accuracy = 0.91\n",
            "Epoch: 6, train_loss: 0.30,          val_loss: 0.35, val_accuracy = 0.88,          train_accuracy = 0.89\n",
            "Epoch: 7, train_loss: 0.17,          val_loss: 0.29, val_accuracy = 0.86,          train_accuracy = 0.94\n",
            "Epoch: 8, train_loss: 0.16,          val_loss: 0.29, val_accuracy = 0.88,          train_accuracy = 0.94\n",
            "Epoch: 9, train_loss: 0.13,          val_loss: 0.28, val_accuracy = 0.89,          train_accuracy = 0.95\n",
            "Epoch: 10, train_loss: 0.09,          val_loss: 0.33, val_accuracy = 0.89,          train_accuracy = 0.97\n",
            "Epoch: 11, train_loss: 0.13,          val_loss: 0.48, val_accuracy = 0.83,          train_accuracy = 0.96\n",
            "Epoch: 12, train_loss: 0.13,          val_loss: 0.28, val_accuracy = 0.88,          train_accuracy = 0.95\n",
            "Epoch: 13, train_loss: 0.12,          val_loss: 0.49, val_accuracy = 0.87,          train_accuracy = 0.95\n",
            "Epoch: 14, train_loss: 0.09,          val_loss: 0.28, val_accuracy = 0.90,          train_accuracy = 0.97\n",
            "Epoch: 15, train_loss: 0.06,          val_loss: 0.29, val_accuracy = 0.89,          train_accuracy = 0.98\n",
            "Epoch: 16, train_loss: 0.09,          val_loss: 0.42, val_accuracy = 0.87,          train_accuracy = 0.96\n",
            "Epoch: 17, train_loss: 0.06,          val_loss: 0.26, val_accuracy = 0.90,          train_accuracy = 0.98\n",
            "Epoch: 18, train_loss: 0.03,          val_loss: 0.28, val_accuracy = 0.91,          train_accuracy = 0.99\n",
            "Epoch: 19, train_loss: 0.03,          val_loss: 0.27, val_accuracy = 0.90,          train_accuracy = 0.99\n",
            "Epoch: 20, train_loss: 0.03,          val_loss: 0.28, val_accuracy = 0.92,          train_accuracy = 0.99\n"
          ]
        }
      ]
    },
    {
      "cell_type": "markdown",
      "source": [
        "After 20 epochs, we get a validation accuracy of 92 percent and a train accuracy of 99 percent.\n",
        "\n",
        "In a real world scenario, we also would be interested in the final test accuracy to better understand how well our model generalizes to unseen data."
      ],
      "metadata": {
        "id": "1-K8pCF__cx0"
      }
    },
    {
      "cell_type": "markdown",
      "source": [
        "### Inference and saving model weights"
      ],
      "metadata": {
        "id": "eOe4gSvW9kP-"
      }
    },
    {
      "cell_type": "markdown",
      "source": [
        "Following is just a small example of how we can perform inference (make predictions) with the trained model:"
      ],
      "metadata": {
        "id": "47-GBadbARQ5"
      }
    },
    {
      "cell_type": "code",
      "source": [
        "labels = ['boot','sandal', 'shoe']\n",
        "\n",
        "img = Image.open(\"./test/boot/boot (948).jpg\")\n",
        "img = transforms(img).to(device)\n",
        "img = torch.unsqueeze(img, 0)\n",
        "\n",
        "# set the model in evaluation mode\n",
        "simplenet.eval()\n",
        "prediction = F.softmax(simplenet(img), dim=1)\n",
        "prediction = prediction.argmax()\n",
        "print(f'{labels[prediction]}')"
      ],
      "metadata": {
        "colab": {
          "base_uri": "https://localhost:8080/"
        },
        "id": "bV4HZSjx9tY7",
        "outputId": "2acfcf10-8fb6-4173-fbf2-8576273b372d"
      },
      "execution_count": 9,
      "outputs": [
        {
          "output_type": "stream",
          "name": "stdout",
          "text": [
            "For a boot image the predicted label is sandal\n",
            "For a sandal image the predicted label is sandal\n",
            "For a shoe image the predicted label is sandal\n"
          ]
        }
      ]
    },
    {
      "cell_type": "code",
      "source": [
        "state_dict = simplenet.state_dict()\n",
        "print(state_dict)\n",
        "torch.save(state_dict, \"shoe_model.tar\")"
      ],
      "metadata": {
        "id": "GOmrCrxr07ox"
      },
      "execution_count": null,
      "outputs": []
    },
    {
      "cell_type": "markdown",
      "source": [
        "### Test accuracy"
      ],
      "metadata": {
        "id": "HceHMMGJIDDT"
      }
    },
    {
      "cell_type": "code",
      "source": [
        "state_dict = torch.load(\"shoe_model.tar\")\n",
        "simplenet.load_state_dict(state_dict)"
      ],
      "metadata": {
        "colab": {
          "base_uri": "https://localhost:8080/"
        },
        "id": "uXCeuH4yxQVj",
        "outputId": "c22e79b5-e5a5-4166-fded-071dd3074ec1"
      },
      "execution_count": 16,
      "outputs": [
        {
          "output_type": "execute_result",
          "data": {
            "text/plain": [
              "<All keys matched successfully>"
            ]
          },
          "metadata": {},
          "execution_count": 16
        }
      ]
    },
    {
      "cell_type": "code",
      "source": [
        "def eval_model(model, data_loader):\n",
        "    model.eval() # Set model to eval mode\n",
        "    true_preds, num_preds = 0., 0.\n",
        "\n",
        "    with torch.no_grad(): # Deactivate gradients for the following code\n",
        "        for data_inputs, data_labels in data_loader:\n",
        "\n",
        "            # Determine prediction of model on dev set\n",
        "            #data_inputs, data_labels = data_inputs.to(device), data_labels.to(device)\n",
        "            preds = model(data_inputs)\n",
        "\n",
        "            _, predicted = preds.max(1)\n",
        "            true_preds += (predicted == data_labels).sum()\n",
        "\n",
        "            # Keep records of predictions for the accuracy metric (true_preds=TP+TN, num_preds=TP+TN+FP+FN)\n",
        "            num_preds += data_labels.shape[0]\n",
        "\n",
        "    acc = true_preds / num_preds\n",
        "    print(f\"Test accuracy of the model: {100.0*acc:4.2f}%\")"
      ],
      "metadata": {
        "id": "8y8t15rjIByd"
      },
      "execution_count": 25,
      "outputs": []
    },
    {
      "cell_type": "code",
      "source": [
        "eval_model(simplenet, test_data_loader)"
      ],
      "metadata": {
        "colab": {
          "base_uri": "https://localhost:8080/"
        },
        "id": "Oei_G2e6JKib",
        "outputId": "2915192a-1a38-4aad-c94e-b3e4768fed54"
      },
      "execution_count": 26,
      "outputs": [
        {
          "output_type": "stream",
          "name": "stdout",
          "text": [
            "Test accuracy of the model: 91.19%\n"
          ]
        }
      ]
    }
  ]
}